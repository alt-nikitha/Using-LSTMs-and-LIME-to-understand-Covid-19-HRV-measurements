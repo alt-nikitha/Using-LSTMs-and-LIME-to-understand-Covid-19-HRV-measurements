{
  "nbformat": 4,
  "nbformat_minor": 0,
  "metadata": {
    "colab": {
      "name": "DataCollection.ipynb",
      "provenance": [],
      "collapsed_sections": []
    },
    "kernelspec": {
      "name": "python3",
      "display_name": "Python 3"
    }
  },
  "cells": [
    {
      "cell_type": "code",
      "metadata": {
        "id": "R-GphK8KtWzS",
        "colab_type": "code",
        "colab": {}
      },
      "source": [
        "import pandas as pd"
      ],
      "execution_count": null,
      "outputs": []
    },
    {
      "cell_type": "code",
      "metadata": {
        "id": "1LDfxC22tjpo",
        "colab_type": "code",
        "colab": {}
      },
      "source": [
        "scales=['S_COVID_SYMPTOMS','S_COVID_COUGH','S_COVID_FEVER','S_COVID_BREATH','S_COVID_FATIGUE','S_COVID_PAIN','S_COVID_CONFUSION','S_COVID_TROUBLE','S_COVID_BLUISH','S_COVID_OVERALL','S_CORONA']"
      ],
      "execution_count": null,
      "outputs": []
    },
    {
      "cell_type": "markdown",
      "metadata": {
        "id": "C-iJOFG_PolW",
        "colab_type": "text"
      },
      "source": [
        "Read the survey file which will be used to obtain patient ids of patients who have suffered from covid-19 and the date of start of symptoms in case it is not available in the participants details file"
      ]
    },
    {
      "cell_type": "code",
      "metadata": {
        "id": "FBdvIboauGKL",
        "colab_type": "code",
        "colab": {}
      },
      "source": [
        "survey=pd.read_csv('/content/surveys.csv')"
      ],
      "execution_count": null,
      "outputs": []
    },
    {
      "cell_type": "code",
      "metadata": {
        "id": "6AcQnt62uX-u",
        "colab_type": "code",
        "colab": {
          "base_uri": "https://localhost:8080/",
          "height": 204
        },
        "outputId": "745276c8-5957-47a8-c796-1acd63563d07"
      },
      "source": [
        "survey.head()"
      ],
      "execution_count": null,
      "outputs": [
        {
          "output_type": "execute_result",
          "data": {
            "text/html": [
              "<div>\n",
              "<style scoped>\n",
              "    .dataframe tbody tr th:only-of-type {\n",
              "        vertical-align: middle;\n",
              "    }\n",
              "\n",
              "    .dataframe tbody tr th {\n",
              "        vertical-align: top;\n",
              "    }\n",
              "\n",
              "    .dataframe thead th {\n",
              "        text-align: right;\n",
              "    }\n",
              "</style>\n",
              "<table border=\"1\" class=\"dataframe\">\n",
              "  <thead>\n",
              "    <tr style=\"text-align: right;\">\n",
              "      <th></th>\n",
              "      <th>user_code</th>\n",
              "      <th>scale</th>\n",
              "      <th>created_at</th>\n",
              "      <th>value</th>\n",
              "      <th>text</th>\n",
              "    </tr>\n",
              "  </thead>\n",
              "  <tbody>\n",
              "    <tr>\n",
              "      <th>0</th>\n",
              "      <td>01bad5a519</td>\n",
              "      <td>S_CORONA</td>\n",
              "      <td>2020-04-23</td>\n",
              "      <td>2</td>\n",
              "      <td>Symptoms are characteristic of coronavirus</td>\n",
              "    </tr>\n",
              "    <tr>\n",
              "      <th>1</th>\n",
              "      <td>01bad5a519</td>\n",
              "      <td>S_COVID_BLUISH</td>\n",
              "      <td>2020-04-23</td>\n",
              "      <td>1</td>\n",
              "      <td>User isn’t experiencing symptom</td>\n",
              "    </tr>\n",
              "    <tr>\n",
              "      <th>2</th>\n",
              "      <td>01bad5a519</td>\n",
              "      <td>S_COVID_BLUISH</td>\n",
              "      <td>2020-04-25</td>\n",
              "      <td>1</td>\n",
              "      <td>User isn’t experiencing symptom</td>\n",
              "    </tr>\n",
              "    <tr>\n",
              "      <th>3</th>\n",
              "      <td>01bad5a519</td>\n",
              "      <td>S_COVID_BLUISH</td>\n",
              "      <td>2020-04-27</td>\n",
              "      <td>1</td>\n",
              "      <td>User isn’t experiencing symptom</td>\n",
              "    </tr>\n",
              "    <tr>\n",
              "      <th>4</th>\n",
              "      <td>01bad5a519</td>\n",
              "      <td>S_COVID_BLUISH</td>\n",
              "      <td>2020-04-29</td>\n",
              "      <td>1</td>\n",
              "      <td>User isn’t experiencing symptom</td>\n",
              "    </tr>\n",
              "  </tbody>\n",
              "</table>\n",
              "</div>"
            ],
            "text/plain": [
              "    user_code  ...                                        text\n",
              "0  01bad5a519  ...  Symptoms are characteristic of coronavirus\n",
              "1  01bad5a519  ...             User isn’t experiencing symptom\n",
              "2  01bad5a519  ...             User isn’t experiencing symptom\n",
              "3  01bad5a519  ...             User isn’t experiencing symptom\n",
              "4  01bad5a519  ...             User isn’t experiencing symptom\n",
              "\n",
              "[5 rows x 5 columns]"
            ]
          },
          "metadata": {
            "tags": []
          },
          "execution_count": 4
        }
      ]
    },
    {
      "cell_type": "markdown",
      "metadata": {
        "id": "d4axaV8CPgx_",
        "colab_type": "text"
      },
      "source": [
        "Read the participants details file. We will need this to check symptoms onset against the patient id."
      ]
    },
    {
      "cell_type": "code",
      "metadata": {
        "id": "4cLgkKX5U4bS",
        "colab_type": "code",
        "colab": {
          "base_uri": "https://localhost:8080/",
          "height": 204
        },
        "outputId": "31bda437-47d3-44f6-cf52-4aafc6a89554"
      },
      "source": [
        "participants=pd.read_csv('/content/participants.csv')\n",
        "participants.head()"
      ],
      "execution_count": null,
      "outputs": [
        {
          "output_type": "execute_result",
          "data": {
            "text/html": [
              "<div>\n",
              "<style scoped>\n",
              "    .dataframe tbody tr th:only-of-type {\n",
              "        vertical-align: middle;\n",
              "    }\n",
              "\n",
              "    .dataframe tbody tr th {\n",
              "        vertical-align: top;\n",
              "    }\n",
              "\n",
              "    .dataframe thead th {\n",
              "        text-align: right;\n",
              "    }\n",
              "</style>\n",
              "<table border=\"1\" class=\"dataframe\">\n",
              "  <thead>\n",
              "    <tr style=\"text-align: right;\">\n",
              "      <th></th>\n",
              "      <th>user_code</th>\n",
              "      <th>gender</th>\n",
              "      <th>age_range</th>\n",
              "      <th>city</th>\n",
              "      <th>country</th>\n",
              "      <th>height</th>\n",
              "      <th>weight</th>\n",
              "      <th>symptoms_onset</th>\n",
              "    </tr>\n",
              "  </thead>\n",
              "  <tbody>\n",
              "    <tr>\n",
              "      <th>0</th>\n",
              "      <td>007b8190cf</td>\n",
              "      <td>m</td>\n",
              "      <td>25-34</td>\n",
              "      <td>Mandalay</td>\n",
              "      <td>Myanmar</td>\n",
              "      <td>170.18</td>\n",
              "      <td>96.162</td>\n",
              "      <td>NaN</td>\n",
              "    </tr>\n",
              "    <tr>\n",
              "      <th>1</th>\n",
              "      <td>013f6d3e5b</td>\n",
              "      <td>f</td>\n",
              "      <td>18-24</td>\n",
              "      <td>São Paulo</td>\n",
              "      <td>Brazil</td>\n",
              "      <td>174.00</td>\n",
              "      <td>77.300</td>\n",
              "      <td>5/15/2020</td>\n",
              "    </tr>\n",
              "    <tr>\n",
              "      <th>2</th>\n",
              "      <td>01bad5a519</td>\n",
              "      <td>m</td>\n",
              "      <td>45-54</td>\n",
              "      <td>St Petersburg</td>\n",
              "      <td>Russia</td>\n",
              "      <td>178.00</td>\n",
              "      <td>92.000</td>\n",
              "      <td>4/5/2020</td>\n",
              "    </tr>\n",
              "    <tr>\n",
              "      <th>3</th>\n",
              "      <td>0210b20eea</td>\n",
              "      <td>f</td>\n",
              "      <td>25-34</td>\n",
              "      <td>Sochi</td>\n",
              "      <td>Russia</td>\n",
              "      <td>169.00</td>\n",
              "      <td>60.000</td>\n",
              "      <td>5/6/2020</td>\n",
              "    </tr>\n",
              "    <tr>\n",
              "      <th>4</th>\n",
              "      <td>024719e7da</td>\n",
              "      <td>f</td>\n",
              "      <td>45-54</td>\n",
              "      <td>St Petersburg</td>\n",
              "      <td>Russia</td>\n",
              "      <td>158.00</td>\n",
              "      <td>68.500</td>\n",
              "      <td>5/27/2020</td>\n",
              "    </tr>\n",
              "  </tbody>\n",
              "</table>\n",
              "</div>"
            ],
            "text/plain": [
              "    user_code gender age_range  ...  height  weight  symptoms_onset\n",
              "0  007b8190cf      m     25-34  ...  170.18  96.162             NaN\n",
              "1  013f6d3e5b      f     18-24  ...  174.00  77.300       5/15/2020\n",
              "2  01bad5a519      m     45-54  ...  178.00  92.000        4/5/2020\n",
              "3  0210b20eea      f     25-34  ...  169.00  60.000        5/6/2020\n",
              "4  024719e7da      f     45-54  ...  158.00  68.500       5/27/2020\n",
              "\n",
              "[5 rows x 8 columns]"
            ]
          },
          "metadata": {
            "tags": []
          },
          "execution_count": 5
        }
      ]
    },
    {
      "cell_type": "markdown",
      "metadata": {
        "id": "HbCQLI9YN4B1",
        "colab_type": "text"
      },
      "source": [
        "Create a list of patients who have had covid using the scale in the survey.csv file. Also create a list of symptoms onset dates by choosing from the particpants.csv file, or from created_at field for the first observation in survey.csv. So the symptoms onset date at index i of the dates list corresponds to patient i in patients."
      ]
    },
    {
      "cell_type": "code",
      "metadata": {
        "id": "l0UF5OCLuZLN",
        "colab_type": "code",
        "colab": {
          "base_uri": "https://localhost:8080/",
          "height": 54
        },
        "outputId": "2b54fb66-8a9d-409a-af01-6434fec755b1"
      },
      "source": [
        "dates=[]\n",
        "patients=[]\n",
        "for id in pd.unique(survey['user_code']):\n",
        "  \n",
        "  pat=survey[survey['user_code']==id].reset_index()\n",
        "  if(pat.loc[0,'scale'] in scales):\n",
        "    \n",
        "    patients.append(id)\n",
        "    pati=participants[participants['user_code']==id].reset_index(drop=True)\n",
        "    if(pd.isna(pati.loc[0,'symptoms_onset'])):\n",
        "      # print(pat.loc[0,'created_at'])\n",
        "      dates.append(pd.to_datetime(pat.loc[0,'created_at']))\n",
        "    else:\n",
        "      dates.append(pd.to_datetime(pati['symptoms_onset']).values[0])\n",
        "      # print(pati['symptoms_onset'].values[0])\n",
        "\n",
        "print(dates) \n"
      ],
      "execution_count": null,
      "outputs": [
        {
          "output_type": "stream",
          "text": [
            "[numpy.datetime64('2020-04-05T00:00:00.000000000'), numpy.datetime64('2020-03-25T00:00:00.000000000'), numpy.datetime64('2020-04-01T00:00:00.000000000'), numpy.datetime64('2020-03-10T00:00:00.000000000'), numpy.datetime64('2020-03-27T00:00:00.000000000'), numpy.datetime64('2020-04-10T00:00:00.000000000'), numpy.datetime64('2020-04-19T00:00:00.000000000'), numpy.datetime64('1999-03-06T00:00:00.000000000'), numpy.datetime64('2020-04-11T00:00:00.000000000'), numpy.datetime64('2020-04-04T00:00:00.000000000'), numpy.datetime64('2020-03-14T00:00:00.000000000'), Timestamp('2020-04-23 00:00:00'), numpy.datetime64('2020-04-18T00:00:00.000000000'), numpy.datetime64('2020-04-26T00:00:00.000000000'), Timestamp('2020-04-14 00:00:00'), numpy.datetime64('2020-04-12T00:00:00.000000000'), Timestamp('2020-04-11 00:00:00'), numpy.datetime64('2020-04-22T00:00:00.000000000'), numpy.datetime64('2020-05-11T00:00:00.000000000'), numpy.datetime64('2020-04-01T00:00:00.000000000'), numpy.datetime64('2020-04-26T00:00:00.000000000'), numpy.datetime64('2020-03-08T00:00:00.000000000'), numpy.datetime64('2020-04-19T00:00:00.000000000'), numpy.datetime64('2020-04-22T00:00:00.000000000'), numpy.datetime64('2020-04-14T00:00:00.000000000'), numpy.datetime64('2022-04-21T00:00:00.000000000'), numpy.datetime64('2020-03-26T00:00:00.000000000'), numpy.datetime64('1984-04-05T00:00:00.000000000'), numpy.datetime64('2020-05-01T00:00:00.000000000'), numpy.datetime64('2020-03-22T00:00:00.000000000'), numpy.datetime64('2020-05-10T00:00:00.000000000'), numpy.datetime64('2020-03-17T00:00:00.000000000'), Timestamp('2020-05-08 00:00:00'), numpy.datetime64('2020-04-15T00:00:00.000000000'), numpy.datetime64('2020-04-16T00:00:00.000000000'), numpy.datetime64('2020-04-04T00:00:00.000000000'), numpy.datetime64('1982-12-16T00:00:00.000000000'), Timestamp('2020-04-12 00:00:00'), numpy.datetime64('2020-05-03T00:00:00.000000000'), numpy.datetime64('2020-03-16T00:00:00.000000000'), numpy.datetime64('2020-03-21T00:00:00.000000000'), numpy.datetime64('2020-04-04T00:00:00.000000000'), numpy.datetime64('2020-04-01T00:00:00.000000000'), numpy.datetime64('2020-04-06T00:00:00.000000000'), numpy.datetime64('2020-03-30T00:00:00.000000000'), numpy.datetime64('2020-03-28T00:00:00.000000000'), numpy.datetime64('2021-04-01T00:00:00.000000000'), numpy.datetime64('2020-04-08T00:00:00.000000000'), numpy.datetime64('2020-03-28T00:00:00.000000000'), numpy.datetime64('2020-05-12T00:00:00.000000000'), Timestamp('2020-04-07 00:00:00'), numpy.datetime64('1967-01-30T00:00:00.000000000'), numpy.datetime64('2020-03-24T00:00:00.000000000'), numpy.datetime64('2020-04-25T00:00:00.000000000'), numpy.datetime64('1993-01-01T00:00:00.000000000'), numpy.datetime64('2020-04-04T00:00:00.000000000'), numpy.datetime64('2020-03-20T00:00:00.000000000'), numpy.datetime64('2020-03-28T00:00:00.000000000'), numpy.datetime64('2020-04-22T00:00:00.000000000'), numpy.datetime64('2020-03-11T00:00:00.000000000'), numpy.datetime64('2020-05-02T00:00:00.000000000'), numpy.datetime64('2020-04-04T00:00:00.000000000'), numpy.datetime64('2020-04-25T00:00:00.000000000'), Timestamp('2020-05-05 00:00:00'), numpy.datetime64('2020-05-06T00:00:00.000000000'), numpy.datetime64('2020-04-01T00:00:00.000000000'), numpy.datetime64('2020-04-16T00:00:00.000000000'), numpy.datetime64('2020-05-08T00:00:00.000000000'), Timestamp('2020-05-12 00:00:00'), numpy.datetime64('2020-04-05T00:00:00.000000000'), numpy.datetime64('2020-03-24T00:00:00.000000000'), numpy.datetime64('2020-04-25T00:00:00.000000000'), numpy.datetime64('2020-03-22T00:00:00.000000000'), numpy.datetime64('2020-04-02T00:00:00.000000000'), numpy.datetime64('2020-03-25T00:00:00.000000000'), numpy.datetime64('2020-04-30T00:00:00.000000000'), numpy.datetime64('2020-04-23T00:00:00.000000000'), numpy.datetime64('2020-03-23T00:00:00.000000000'), numpy.datetime64('2020-04-25T00:00:00.000000000'), numpy.datetime64('2020-05-03T00:00:00.000000000'), numpy.datetime64('2020-04-07T00:00:00.000000000'), numpy.datetime64('2020-05-09T00:00:00.000000000'), Timestamp('2020-04-09 00:00:00'), numpy.datetime64('2020-03-14T00:00:00.000000000'), numpy.datetime64('2020-04-29T00:00:00.000000000'), numpy.datetime64('2020-04-23T00:00:00.000000000'), Timestamp('2020-04-16 00:00:00'), numpy.datetime64('2020-03-10T00:00:00.000000000'), numpy.datetime64('2020-04-05T00:00:00.000000000'), numpy.datetime64('2020-04-19T00:00:00.000000000'), numpy.datetime64('2020-05-06T00:00:00.000000000'), numpy.datetime64('2020-04-27T00:00:00.000000000'), numpy.datetime64('2020-05-05T00:00:00.000000000'), numpy.datetime64('2020-04-25T00:00:00.000000000'), numpy.datetime64('2020-04-27T00:00:00.000000000'), Timestamp('2020-05-16 00:00:00'), numpy.datetime64('2020-03-16T00:00:00.000000000'), numpy.datetime64('2020-05-01T00:00:00.000000000'), numpy.datetime64('2020-04-16T00:00:00.000000000'), numpy.datetime64('2020-05-03T00:00:00.000000000')]\n"
          ],
          "name": "stdout"
        }
      ]
    },
    {
      "cell_type": "markdown",
      "metadata": {
        "id": "F7j89Ed7OR6i",
        "colab_type": "text"
      },
      "source": [
        "Check number of patients"
      ]
    },
    {
      "cell_type": "code",
      "metadata": {
        "id": "pj2ekyqKwHyu",
        "colab_type": "code",
        "colab": {
          "base_uri": "https://localhost:8080/",
          "height": 34
        },
        "outputId": "b97a47e8-662d-4beb-af77-de3649bcf204"
      },
      "source": [
        "len(patients)"
      ],
      "execution_count": null,
      "outputs": [
        {
          "output_type": "execute_result",
          "data": {
            "text/plain": [
              "100"
            ]
          },
          "metadata": {
            "tags": []
          },
          "execution_count": 7
        }
      ]
    },
    {
      "cell_type": "markdown",
      "metadata": {
        "id": "m353Hs80PdjJ",
        "colab_type": "text"
      },
      "source": [
        "Read the hrv measurements file"
      ]
    },
    {
      "cell_type": "code",
      "metadata": {
        "id": "m9qEr4hiwg5w",
        "colab_type": "code",
        "colab": {}
      },
      "source": [
        "hrv=pd.read_csv('/content/hrv_measurements.csv')"
      ],
      "execution_count": null,
      "outputs": []
    },
    {
      "cell_type": "code",
      "metadata": {
        "id": "1ICLkcEt2QQC",
        "colab_type": "code",
        "colab": {
          "base_uri": "https://localhost:8080/",
          "height": 428
        },
        "outputId": "aff04410-707a-4283-a878-9f64030c3068"
      },
      "source": [
        "hrv.head()"
      ],
      "execution_count": null,
      "outputs": [
        {
          "output_type": "execute_result",
          "data": {
            "text/html": [
              "<div>\n",
              "<style scoped>\n",
              "    .dataframe tbody tr th:only-of-type {\n",
              "        vertical-align: middle;\n",
              "    }\n",
              "\n",
              "    .dataframe tbody tr th {\n",
              "        vertical-align: top;\n",
              "    }\n",
              "\n",
              "    .dataframe thead th {\n",
              "        text-align: right;\n",
              "    }\n",
              "</style>\n",
              "<table border=\"1\" class=\"dataframe\">\n",
              "  <thead>\n",
              "    <tr style=\"text-align: right;\">\n",
              "      <th></th>\n",
              "      <th>user_code</th>\n",
              "      <th>rr_code</th>\n",
              "      <th>measurement_datetime</th>\n",
              "      <th>time_of_day</th>\n",
              "      <th>bpm</th>\n",
              "      <th>meanrr</th>\n",
              "      <th>mxdmn</th>\n",
              "      <th>sdnn</th>\n",
              "      <th>rmssd</th>\n",
              "      <th>pnn50</th>\n",
              "      <th>mode</th>\n",
              "      <th>amo</th>\n",
              "      <th>lf</th>\n",
              "      <th>hf</th>\n",
              "      <th>vlf</th>\n",
              "      <th>lfhf</th>\n",
              "      <th>total_power</th>\n",
              "      <th>how_feel</th>\n",
              "      <th>how_mood</th>\n",
              "      <th>how_sleep</th>\n",
              "      <th>tags</th>\n",
              "      <th>rr_data</th>\n",
              "    </tr>\n",
              "  </thead>\n",
              "  <tbody>\n",
              "    <tr>\n",
              "      <th>0</th>\n",
              "      <td>007b8190cf</td>\n",
              "      <td>10489a6aea</td>\n",
              "      <td>2020-04-21 21:23:08</td>\n",
              "      <td>morning</td>\n",
              "      <td>75</td>\n",
              "      <td>795.90</td>\n",
              "      <td>0.12</td>\n",
              "      <td>45.802</td>\n",
              "      <td>54.174</td>\n",
              "      <td>15.15</td>\n",
              "      <td>0.775</td>\n",
              "      <td>53.0</td>\n",
              "      <td>508.0</td>\n",
              "      <td>1076.0</td>\n",
              "      <td>267.0</td>\n",
              "      <td>0.472</td>\n",
              "      <td>1851.0</td>\n",
              "      <td>0</td>\n",
              "      <td>-1</td>\n",
              "      <td>NaN</td>\n",
              "      <td>COVID-19; Workout; Sex; Hobby; Studying; Sleep...</td>\n",
              "      <td>819,1008,831,847,785,778,866,839,801,793,846,8...</td>\n",
              "    </tr>\n",
              "    <tr>\n",
              "      <th>1</th>\n",
              "      <td>007b8190cf</td>\n",
              "      <td>9610d4d4dc</td>\n",
              "      <td>2020-04-26 11:19:25</td>\n",
              "      <td>morning</td>\n",
              "      <td>70</td>\n",
              "      <td>858.00</td>\n",
              "      <td>0.11</td>\n",
              "      <td>32.889</td>\n",
              "      <td>33.022</td>\n",
              "      <td>16.16</td>\n",
              "      <td>0.875</td>\n",
              "      <td>54.0</td>\n",
              "      <td>409.0</td>\n",
              "      <td>310.0</td>\n",
              "      <td>176.0</td>\n",
              "      <td>1.319</td>\n",
              "      <td>895.0</td>\n",
              "      <td>0</td>\n",
              "      <td>0</td>\n",
              "      <td>0.0</td>\n",
              "      <td>NaN</td>\n",
              "      <td>888,775,811,883,890,894,894,899,893,889,890,83...</td>\n",
              "    </tr>\n",
              "    <tr>\n",
              "      <th>2</th>\n",
              "      <td>013f6d3e5b</td>\n",
              "      <td>f3de056155</td>\n",
              "      <td>2020-05-15 04:14:21</td>\n",
              "      <td>night</td>\n",
              "      <td>83</td>\n",
              "      <td>724.10</td>\n",
              "      <td>0.17</td>\n",
              "      <td>54.811</td>\n",
              "      <td>65.987</td>\n",
              "      <td>17.17</td>\n",
              "      <td>0.725</td>\n",
              "      <td>46.0</td>\n",
              "      <td>432.0</td>\n",
              "      <td>881.0</td>\n",
              "      <td>194.0</td>\n",
              "      <td>0.490</td>\n",
              "      <td>1507.0</td>\n",
              "      <td>-1</td>\n",
              "      <td>-2</td>\n",
              "      <td>NaN</td>\n",
              "      <td>COVID-19; Fast/Diet; Hungry; Tired; Fever; I c...</td>\n",
              "      <td>694,832,642,801,751,716,737,742,773,760,701,73...</td>\n",
              "    </tr>\n",
              "    <tr>\n",
              "      <th>3</th>\n",
              "      <td>013f6d3e5b</td>\n",
              "      <td>b04489e32f</td>\n",
              "      <td>2020-05-19 03:06:02</td>\n",
              "      <td>night</td>\n",
              "      <td>75</td>\n",
              "      <td>802.64</td>\n",
              "      <td>0.20</td>\n",
              "      <td>72.223</td>\n",
              "      <td>70.039</td>\n",
              "      <td>22.22</td>\n",
              "      <td>0.825</td>\n",
              "      <td>43.0</td>\n",
              "      <td>814.0</td>\n",
              "      <td>1487.0</td>\n",
              "      <td>1719.0</td>\n",
              "      <td>0.547</td>\n",
              "      <td>4020.0</td>\n",
              "      <td>0</td>\n",
              "      <td>0</td>\n",
              "      <td>NaN</td>\n",
              "      <td>NaN</td>\n",
              "      <td>821,817,771,805,833,788,747,724,792,825,775,75...</td>\n",
              "    </tr>\n",
              "    <tr>\n",
              "      <th>4</th>\n",
              "      <td>01bad5a519</td>\n",
              "      <td>ac52c706c6</td>\n",
              "      <td>2019-12-31 09:07:43</td>\n",
              "      <td>morning</td>\n",
              "      <td>78</td>\n",
              "      <td>768.07</td>\n",
              "      <td>0.10</td>\n",
              "      <td>29.650</td>\n",
              "      <td>21.196</td>\n",
              "      <td>4.04</td>\n",
              "      <td>0.775</td>\n",
              "      <td>56.0</td>\n",
              "      <td>489.0</td>\n",
              "      <td>128.0</td>\n",
              "      <td>96.0</td>\n",
              "      <td>3.820</td>\n",
              "      <td>713.0</td>\n",
              "      <td>0</td>\n",
              "      <td>0</td>\n",
              "      <td>0.0</td>\n",
              "      <td>NaN</td>\n",
              "      <td>741,740,734,737,740,731,751,747,745,728,747,76...</td>\n",
              "    </tr>\n",
              "  </tbody>\n",
              "</table>\n",
              "</div>"
            ],
            "text/plain": [
              "    user_code  ...                                            rr_data\n",
              "0  007b8190cf  ...  819,1008,831,847,785,778,866,839,801,793,846,8...\n",
              "1  007b8190cf  ...  888,775,811,883,890,894,894,899,893,889,890,83...\n",
              "2  013f6d3e5b  ...  694,832,642,801,751,716,737,742,773,760,701,73...\n",
              "3  013f6d3e5b  ...  821,817,771,805,833,788,747,724,792,825,775,75...\n",
              "4  01bad5a519  ...  741,740,734,737,740,731,751,747,745,728,747,76...\n",
              "\n",
              "[5 rows x 22 columns]"
            ]
          },
          "metadata": {
            "tags": []
          },
          "execution_count": 9
        }
      ]
    },
    {
      "cell_type": "markdown",
      "metadata": {
        "id": "975eAWzFOWjO",
        "colab_type": "text"
      },
      "source": [
        "Convert the meaurement_datetime field of hrv_measurements.csv and then extract only the date part."
      ]
    },
    {
      "cell_type": "code",
      "metadata": {
        "id": "aCBItXRI2WIh",
        "colab_type": "code",
        "colab": {}
      },
      "source": [
        "hrvcopy=hrv\n",
        "hrvcopy['measurement_datetime']=pd.to_datetime(hrv['measurement_datetime']).dt.date"
      ],
      "execution_count": null,
      "outputs": []
    },
    {
      "cell_type": "markdown",
      "metadata": {
        "id": "QOPrXT8NOtD8",
        "colab_type": "text"
      },
      "source": [
        "Convert the symptom onset dates to datetime type so that they can be compared with the dates in hrv measurements"
      ]
    },
    {
      "cell_type": "code",
      "metadata": {
        "id": "TTDEHwSh2mPu",
        "colab_type": "code",
        "colab": {}
      },
      "source": [
        "dates1=pd.to_datetime(dates)"
      ],
      "execution_count": null,
      "outputs": []
    },
    {
      "cell_type": "code",
      "metadata": {
        "id": "U2yRprnB2tth",
        "colab_type": "code",
        "colab": {
          "base_uri": "https://localhost:8080/",
          "height": 459
        },
        "outputId": "cedba8b7-f73d-4157-a502-963e3973819b"
      },
      "source": [
        "dates1"
      ],
      "execution_count": null,
      "outputs": [
        {
          "output_type": "execute_result",
          "data": {
            "text/plain": [
              "DatetimeIndex(['2020-04-05', '2020-03-25', '2020-04-01', '2020-03-10',\n",
              "               '2020-03-27', '2020-04-10', '2020-04-19', '1999-03-06',\n",
              "               '2020-04-11', '2020-04-04', '2020-03-14', '2020-04-23',\n",
              "               '2020-04-18', '2020-04-26', '2020-04-14', '2020-04-12',\n",
              "               '2020-04-11', '2020-04-22', '2020-05-11', '2020-04-01',\n",
              "               '2020-04-26', '2020-03-08', '2020-04-19', '2020-04-22',\n",
              "               '2020-04-14', '2022-04-21', '2020-03-26', '1984-04-05',\n",
              "               '2020-05-01', '2020-03-22', '2020-05-10', '2020-03-17',\n",
              "               '2020-05-08', '2020-04-15', '2020-04-16', '2020-04-04',\n",
              "               '1982-12-16', '2020-04-12', '2020-05-03', '2020-03-16',\n",
              "               '2020-03-21', '2020-04-04', '2020-04-01', '2020-04-06',\n",
              "               '2020-03-30', '2020-03-28', '2021-04-01', '2020-04-08',\n",
              "               '2020-03-28', '2020-05-12', '2020-04-07', '1967-01-30',\n",
              "               '2020-03-24', '2020-04-25', '1993-01-01', '2020-04-04',\n",
              "               '2020-03-20', '2020-03-28', '2020-04-22', '2020-03-11',\n",
              "               '2020-05-02', '2020-04-04', '2020-04-25', '2020-05-05',\n",
              "               '2020-05-06', '2020-04-01', '2020-04-16', '2020-05-08',\n",
              "               '2020-05-12', '2020-04-05', '2020-03-24', '2020-04-25',\n",
              "               '2020-03-22', '2020-04-02', '2020-03-25', '2020-04-30',\n",
              "               '2020-04-23', '2020-03-23', '2020-04-25', '2020-05-03',\n",
              "               '2020-04-07', '2020-05-09', '2020-04-09', '2020-03-14',\n",
              "               '2020-04-29', '2020-04-23', '2020-04-16', '2020-03-10',\n",
              "               '2020-04-05', '2020-04-19', '2020-05-06', '2020-04-27',\n",
              "               '2020-05-05', '2020-04-25', '2020-04-27', '2020-05-16',\n",
              "               '2020-03-16', '2020-05-01', '2020-04-16', '2020-05-03'],\n",
              "              dtype='datetime64[ns]', freq=None)"
            ]
          },
          "metadata": {
            "tags": []
          },
          "execution_count": 12
        }
      ]
    },
    {
      "cell_type": "code",
      "metadata": {
        "id": "6YBJw4_LaSTt",
        "colab_type": "code",
        "colab": {
          "base_uri": "https://localhost:8080/",
          "height": 1000
        },
        "outputId": "5474906d-24d9-4eb0-d663-b7ada8d66fb3"
      },
      "source": [
        "patients"
      ],
      "execution_count": null,
      "outputs": [
        {
          "output_type": "execute_result",
          "data": {
            "text/plain": [
              "['01bad5a519',\n",
              " '05bcfae0a4',\n",
              " '0bdfbddb2b',\n",
              " '0f2d7af30c',\n",
              " '128d2c7888',\n",
              " '18c4ac7b38',\n",
              " '18f2738516',\n",
              " '1942df1c47',\n",
              " '1b9321b648',\n",
              " '1ce1d77659',\n",
              " '1ed25f66e9',\n",
              " '1fa680ad84',\n",
              " '224babc773',\n",
              " '257b51da6d',\n",
              " '276ab22485',\n",
              " '27fccfd61b',\n",
              " '285e0d75a6',\n",
              " '294bee940a',\n",
              " '295ed96279',\n",
              " '29d2a4bb3a',\n",
              " '2a6836ff3b',\n",
              " '2e94435085',\n",
              " '324912eca4',\n",
              " '35a6404d88',\n",
              " '3769e88689',\n",
              " '393bac62f4',\n",
              " '3acfbb328e',\n",
              " '3fff7627ca',\n",
              " '403155ae59',\n",
              " '42a99d8248',\n",
              " '43e1055eb8',\n",
              " '45cc34419c',\n",
              " '4985083f4d',\n",
              " '4c2702c3e1',\n",
              " '4c3311ade3',\n",
              " '4e1e508f56',\n",
              " '50249775be',\n",
              " '5108b04245',\n",
              " '520034e204',\n",
              " '5228cb9439',\n",
              " '522efc94b9',\n",
              " '5d200bd1c6',\n",
              " '5efbee746a',\n",
              " '6066fda6e3',\n",
              " '61a79c730c',\n",
              " '629e27a043',\n",
              " '638c757e73',\n",
              " '67fdb397e4',\n",
              " '6be5033971',\n",
              " '6ecfe4a351',\n",
              " '71980b2daf',\n",
              " '78cc008261',\n",
              " '7ba5381254',\n",
              " '7d2c87fb7e',\n",
              " '83161408c1',\n",
              " '856d41cc60',\n",
              " '866977681f',\n",
              " '89ec5a2500',\n",
              " '982ec78569',\n",
              " '9871ee5e7b',\n",
              " '997f44d61a',\n",
              " '9b4a5ded49',\n",
              " 'a074b7fc98',\n",
              " 'a1c2e6b2eb',\n",
              " 'a4cebb51f2',\n",
              " 'a62c11c164',\n",
              " 'aa036185e3',\n",
              " 'abe334cebd',\n",
              " 'ae44a45201',\n",
              " 'af141758f3',\n",
              " 'b325aa1406',\n",
              " 'b523b4512b',\n",
              " 'b9b65b7a69',\n",
              " 'c174f32d88',\n",
              " 'c9087bbdf7',\n",
              " 'cf7e50bcde',\n",
              " 'd30cd4d6e3',\n",
              " 'd40dc56a36',\n",
              " 'd5ff8af5e8',\n",
              " 'd887055144',\n",
              " 'd9a11b91ce',\n",
              " 'da09fd67f1',\n",
              " 'e088efed77',\n",
              " 'e1578ff865',\n",
              " 'e19a41d536',\n",
              " 'e1f108537d',\n",
              " 'e792bd2c05',\n",
              " 'ebf2c3cb63',\n",
              " 'ec5fda0a7a',\n",
              " 'edfbf9f3b1',\n",
              " 'f10a73ff8e',\n",
              " 'f55205254e',\n",
              " 'f6e3f55097',\n",
              " 'f8b552df37',\n",
              " 'f8da95ff22',\n",
              " 'f922e9b06c',\n",
              " 'f9edcb7056',\n",
              " 'fcf3ea75b0',\n",
              " 'fde84801d8',\n",
              " 'fe6c1b1349']"
            ]
          },
          "metadata": {
            "tags": []
          },
          "execution_count": 13
        }
      ]
    },
    {
      "cell_type": "markdown",
      "metadata": {
        "id": "eGFI7APjO2Sc",
        "colab_type": "text"
      },
      "source": [
        "Create a list of dates x, corresponding to the date 15 days before the onset of symptoms for each patient. This is to use any measurements before the dates in x as non-covid measurements. The 15 days gap is provided for the incubation period when symptoms are not visible."
      ]
    },
    {
      "cell_type": "code",
      "metadata": {
        "id": "mu-ynqcx2079",
        "colab_type": "code",
        "colab": {
          "base_uri": "https://localhost:8080/",
          "height": 1000
        },
        "outputId": "2f4e0c3e-e320-4483-cb90-f0daef19f24e"
      },
      "source": [
        "import datetime\n",
        "x=[]\n",
        "days = datetime.timedelta(15)\n",
        "for date in dates1:\n",
        "  x.append(date-days)\n",
        "x"
      ],
      "execution_count": null,
      "outputs": [
        {
          "output_type": "execute_result",
          "data": {
            "text/plain": [
              "[Timestamp('2020-03-21 00:00:00'),\n",
              " Timestamp('2020-03-10 00:00:00'),\n",
              " Timestamp('2020-03-17 00:00:00'),\n",
              " Timestamp('2020-02-24 00:00:00'),\n",
              " Timestamp('2020-03-12 00:00:00'),\n",
              " Timestamp('2020-03-26 00:00:00'),\n",
              " Timestamp('2020-04-04 00:00:00'),\n",
              " Timestamp('1999-02-19 00:00:00'),\n",
              " Timestamp('2020-03-27 00:00:00'),\n",
              " Timestamp('2020-03-20 00:00:00'),\n",
              " Timestamp('2020-02-28 00:00:00'),\n",
              " Timestamp('2020-04-08 00:00:00'),\n",
              " Timestamp('2020-04-03 00:00:00'),\n",
              " Timestamp('2020-04-11 00:00:00'),\n",
              " Timestamp('2020-03-30 00:00:00'),\n",
              " Timestamp('2020-03-28 00:00:00'),\n",
              " Timestamp('2020-03-27 00:00:00'),\n",
              " Timestamp('2020-04-07 00:00:00'),\n",
              " Timestamp('2020-04-26 00:00:00'),\n",
              " Timestamp('2020-03-17 00:00:00'),\n",
              " Timestamp('2020-04-11 00:00:00'),\n",
              " Timestamp('2020-02-22 00:00:00'),\n",
              " Timestamp('2020-04-04 00:00:00'),\n",
              " Timestamp('2020-04-07 00:00:00'),\n",
              " Timestamp('2020-03-30 00:00:00'),\n",
              " Timestamp('2022-04-06 00:00:00'),\n",
              " Timestamp('2020-03-11 00:00:00'),\n",
              " Timestamp('1984-03-21 00:00:00'),\n",
              " Timestamp('2020-04-16 00:00:00'),\n",
              " Timestamp('2020-03-07 00:00:00'),\n",
              " Timestamp('2020-04-25 00:00:00'),\n",
              " Timestamp('2020-03-02 00:00:00'),\n",
              " Timestamp('2020-04-23 00:00:00'),\n",
              " Timestamp('2020-03-31 00:00:00'),\n",
              " Timestamp('2020-04-01 00:00:00'),\n",
              " Timestamp('2020-03-20 00:00:00'),\n",
              " Timestamp('1982-12-01 00:00:00'),\n",
              " Timestamp('2020-03-28 00:00:00'),\n",
              " Timestamp('2020-04-18 00:00:00'),\n",
              " Timestamp('2020-03-01 00:00:00'),\n",
              " Timestamp('2020-03-06 00:00:00'),\n",
              " Timestamp('2020-03-20 00:00:00'),\n",
              " Timestamp('2020-03-17 00:00:00'),\n",
              " Timestamp('2020-03-22 00:00:00'),\n",
              " Timestamp('2020-03-15 00:00:00'),\n",
              " Timestamp('2020-03-13 00:00:00'),\n",
              " Timestamp('2021-03-17 00:00:00'),\n",
              " Timestamp('2020-03-24 00:00:00'),\n",
              " Timestamp('2020-03-13 00:00:00'),\n",
              " Timestamp('2020-04-27 00:00:00'),\n",
              " Timestamp('2020-03-23 00:00:00'),\n",
              " Timestamp('1967-01-15 00:00:00'),\n",
              " Timestamp('2020-03-09 00:00:00'),\n",
              " Timestamp('2020-04-10 00:00:00'),\n",
              " Timestamp('1992-12-17 00:00:00'),\n",
              " Timestamp('2020-03-20 00:00:00'),\n",
              " Timestamp('2020-03-05 00:00:00'),\n",
              " Timestamp('2020-03-13 00:00:00'),\n",
              " Timestamp('2020-04-07 00:00:00'),\n",
              " Timestamp('2020-02-25 00:00:00'),\n",
              " Timestamp('2020-04-17 00:00:00'),\n",
              " Timestamp('2020-03-20 00:00:00'),\n",
              " Timestamp('2020-04-10 00:00:00'),\n",
              " Timestamp('2020-04-20 00:00:00'),\n",
              " Timestamp('2020-04-21 00:00:00'),\n",
              " Timestamp('2020-03-17 00:00:00'),\n",
              " Timestamp('2020-04-01 00:00:00'),\n",
              " Timestamp('2020-04-23 00:00:00'),\n",
              " Timestamp('2020-04-27 00:00:00'),\n",
              " Timestamp('2020-03-21 00:00:00'),\n",
              " Timestamp('2020-03-09 00:00:00'),\n",
              " Timestamp('2020-04-10 00:00:00'),\n",
              " Timestamp('2020-03-07 00:00:00'),\n",
              " Timestamp('2020-03-18 00:00:00'),\n",
              " Timestamp('2020-03-10 00:00:00'),\n",
              " Timestamp('2020-04-15 00:00:00'),\n",
              " Timestamp('2020-04-08 00:00:00'),\n",
              " Timestamp('2020-03-08 00:00:00'),\n",
              " Timestamp('2020-04-10 00:00:00'),\n",
              " Timestamp('2020-04-18 00:00:00'),\n",
              " Timestamp('2020-03-23 00:00:00'),\n",
              " Timestamp('2020-04-24 00:00:00'),\n",
              " Timestamp('2020-03-25 00:00:00'),\n",
              " Timestamp('2020-02-28 00:00:00'),\n",
              " Timestamp('2020-04-14 00:00:00'),\n",
              " Timestamp('2020-04-08 00:00:00'),\n",
              " Timestamp('2020-04-01 00:00:00'),\n",
              " Timestamp('2020-02-24 00:00:00'),\n",
              " Timestamp('2020-03-21 00:00:00'),\n",
              " Timestamp('2020-04-04 00:00:00'),\n",
              " Timestamp('2020-04-21 00:00:00'),\n",
              " Timestamp('2020-04-12 00:00:00'),\n",
              " Timestamp('2020-04-20 00:00:00'),\n",
              " Timestamp('2020-04-10 00:00:00'),\n",
              " Timestamp('2020-04-12 00:00:00'),\n",
              " Timestamp('2020-05-01 00:00:00'),\n",
              " Timestamp('2020-03-01 00:00:00'),\n",
              " Timestamp('2020-04-16 00:00:00'),\n",
              " Timestamp('2020-04-01 00:00:00'),\n",
              " Timestamp('2020-04-18 00:00:00')]"
            ]
          },
          "metadata": {
            "tags": []
          },
          "execution_count": 14
        }
      ]
    },
    {
      "cell_type": "markdown",
      "metadata": {
        "id": "vZrSRLSwQDp1",
        "colab_type": "text"
      },
      "source": [
        "Two folders for covid and non covid are created. Based on the date of measurement, hrv data for each patient is converted into a csv file for 15 time steps each and put into the respective folders. Read comments."
      ]
    },
    {
      "cell_type": "code",
      "metadata": {
        "id": "H8Zqxtjx4e4Z",
        "colab_type": "code",
        "colab": {}
      },
      "source": [
        "folder1='/content/sample_data/Non_Covid'\n",
        "folder2='/content/sample_data/Covid'\n",
        "\n",
        "\n",
        "i=0\n",
        "non=[] #these lists store the ids of patients for whom non covid data is available\n",
        "cov=[] #these lists store the ids of patients for whom covid data is available\n",
        "\n",
        "for id in patients:\n",
        "  pat=hrvcopy[hrvcopy['user_code']==id].reset_index(drop=True) ## we create a new table for each user id and reset indices so they start with 0\n",
        "  sample1=pat[pat['measurement_datetime']<=x[i]].reset_index(drop=True) #sample1 stores observations made on or before the date in x and hence are all non-covid measurements\n",
        "  sample2=pat[pat['measurement_datetime']>=dates1[i]].reset_index(drop=True) #sample2 stores observations made on or after the date in dates1(date of onset in symptoms) and hence are all covid measurements\n",
        "  if(len(sample1)>=15): #since we want measurements for 15 timesteps, we use the it only if its length is alteast 15\n",
        "    non.append(id)\n",
        "    n=len(sample1)\n",
        "    div=n%15 \n",
        "    no_of_obs=div+1 #no_of_obs tell us how many sets of 15 observations with overlapping windows we can obtain. For example if sample1 has 17 rows, 0-14 can be one set of observations, 1-15 another, 2-16, and finally 3-17. Giving us 15 continuous observations with 15 time steps each.\n",
        "    for j in range(no_of_obs):\n",
        "      df1=sample1.iloc[j:j+15,:].reset_index(drop=True) # we move down the table starting with j as starting index and take 15 observations from that index\n",
        "      pd.DataFrame.to_csv(df1,folder1+'/'+id+str(j)+'.csv') # the selected 15 rows are added to a csv file with name userid+j and added to the non-covid folder\n",
        "  \n",
        "  if(len(sample2)>=15): # again check if there are atleast 15 observations\n",
        "    cov.append(id)\n",
        "    df2=sample2.iloc[:15,:].reset_index(drop=True) # we want hrv measurements starting from the day of onset of symptoms only, we don't create overlapping windows of meaurement. So we just use the first 15 measurements from the onset of symptoms\n",
        "    pd.DataFrame.to_csv(df2,folder2+'/'+id+'.csv') #similarly store the data in csv files and since only one set of covid observations are collected per userid, we do not have to append a number j at the end to signify same user, different observations like we did previously\n",
        "\n",
        "  i+=1"
      ],
      "execution_count": null,
      "outputs": []
    },
    {
      "cell_type": "code",
      "metadata": {
        "id": "n4Yl0r5o4n05",
        "colab_type": "code",
        "colab": {
          "base_uri": "https://localhost:8080/",
          "height": 136
        },
        "outputId": "6cc87a20-dbac-4cd8-cc1b-e0ee852ff92b"
      },
      "source": [
        "non"
      ],
      "execution_count": null,
      "outputs": [
        {
          "output_type": "execute_result",
          "data": {
            "text/plain": [
              "['295ed96279',\n",
              " '4c2702c3e1',\n",
              " '638c757e73',\n",
              " 'a1c2e6b2eb',\n",
              " 'a62c11c164',\n",
              " 'c174f32d88',\n",
              " 'fcf3ea75b0']"
            ]
          },
          "metadata": {
            "tags": []
          },
          "execution_count": 16
        }
      ]
    },
    {
      "cell_type": "code",
      "metadata": {
        "id": "V5w4_STR4wZE",
        "colab_type": "code",
        "colab": {
          "base_uri": "https://localhost:8080/",
          "height": 493
        },
        "outputId": "4ffbf9b0-8712-4332-99f0-8cc58eccfafe"
      },
      "source": [
        "cov"
      ],
      "execution_count": null,
      "outputs": [
        {
          "output_type": "execute_result",
          "data": {
            "text/plain": [
              "['01bad5a519',\n",
              " '1942df1c47',\n",
              " '1ce1d77659',\n",
              " '276ab22485',\n",
              " '295ed96279',\n",
              " '2e94435085',\n",
              " '3769e88689',\n",
              " '3acfbb328e',\n",
              " '403155ae59',\n",
              " '4c2702c3e1',\n",
              " '5108b04245',\n",
              " '5228cb9439',\n",
              " '522efc94b9',\n",
              " '5efbee746a',\n",
              " '6be5033971',\n",
              " '71980b2daf',\n",
              " '78cc008261',\n",
              " '856d41cc60',\n",
              " '9871ee5e7b',\n",
              " 'a1c2e6b2eb',\n",
              " 'a62c11c164',\n",
              " 'aa036185e3',\n",
              " 'b325aa1406',\n",
              " 'b9b65b7a69',\n",
              " 'c174f32d88',\n",
              " 'f9edcb7056',\n",
              " 'fcf3ea75b0',\n",
              " 'fde84801d8']"
            ]
          },
          "metadata": {
            "tags": []
          },
          "execution_count": 17
        }
      ]
    },
    {
      "cell_type": "code",
      "metadata": {
        "id": "jFeFTabrCCG-",
        "colab_type": "code",
        "colab": {
          "base_uri": "https://localhost:8080/",
          "height": 510
        },
        "outputId": "d70b48f4-b0e8-4d66-dc2f-f191e2e071a3"
      },
      "source": [
        "!zip -r Covid.zip /content/sample_data/Covid"
      ],
      "execution_count": null,
      "outputs": [
        {
          "output_type": "stream",
          "text": [
            "  adding: content/sample_data/Covid/ (stored 0%)\n",
            "  adding: content/sample_data/Covid/522efc94b9.csv (deflated 58%)\n",
            "  adding: content/sample_data/Covid/5228cb9439.csv (deflated 56%)\n",
            "  adding: content/sample_data/Covid/a1c2e6b2eb.csv (deflated 63%)\n",
            "  adding: content/sample_data/Covid/b325aa1406.csv (deflated 63%)\n",
            "  adding: content/sample_data/Covid/1942df1c47.csv (deflated 56%)\n",
            "  adding: content/sample_data/Covid/403155ae59.csv (deflated 58%)\n",
            "  adding: content/sample_data/Covid/9871ee5e7b.csv (deflated 57%)\n",
            "  adding: content/sample_data/Covid/856d41cc60.csv (deflated 58%)\n",
            "  adding: content/sample_data/Covid/71980b2daf.csv (deflated 58%)\n",
            "  adding: content/sample_data/Covid/1ce1d77659.csv (deflated 58%)\n",
            "  adding: content/sample_data/Covid/fde84801d8.csv (deflated 59%)\n",
            "  adding: content/sample_data/Covid/276ab22485.csv (deflated 58%)\n",
            "  adding: content/sample_data/Covid/3769e88689.csv (deflated 59%)\n",
            "  adding: content/sample_data/Covid/f9edcb7056.csv (deflated 54%)\n",
            "  adding: content/sample_data/Covid/4c2702c3e1.csv (deflated 58%)\n",
            "  adding: content/sample_data/Covid/aa036185e3.csv (deflated 58%)\n",
            "  adding: content/sample_data/Covid/295ed96279.csv (deflated 59%)\n",
            "  adding: content/sample_data/Covid/fcf3ea75b0.csv (deflated 59%)\n",
            "  adding: content/sample_data/Covid/01bad5a519.csv (deflated 60%)\n",
            "  adding: content/sample_data/Covid/a62c11c164.csv (deflated 58%)\n",
            "  adding: content/sample_data/Covid/78cc008261.csv (deflated 60%)\n",
            "  adding: content/sample_data/Covid/6be5033971.csv (deflated 61%)\n",
            "  adding: content/sample_data/Covid/2e94435085.csv (deflated 56%)\n",
            "  adding: content/sample_data/Covid/3acfbb328e.csv (deflated 59%)\n",
            "  adding: content/sample_data/Covid/5108b04245.csv (deflated 58%)\n",
            "  adding: content/sample_data/Covid/5efbee746a.csv (deflated 57%)\n",
            "  adding: content/sample_data/Covid/c174f32d88.csv (deflated 61%)\n",
            "  adding: content/sample_data/Covid/b9b65b7a69.csv (deflated 58%)\n"
          ],
          "name": "stdout"
        }
      ]
    },
    {
      "cell_type": "code",
      "metadata": {
        "id": "XQ2ow9VdCSNi",
        "colab_type": "code",
        "colab": {
          "base_uri": "https://localhost:8080/",
          "height": 1000
        },
        "outputId": "4f635919-2074-4654-c14e-4a0f06b7d3ed"
      },
      "source": [
        "!zip -r Non_Covid.zip /content/sample_data/Non_Covid"
      ],
      "execution_count": null,
      "outputs": [
        {
          "output_type": "stream",
          "text": [
            "  adding: content/sample_data/Non_Covid/ (stored 0%)\n",
            "  adding: content/sample_data/Non_Covid/a1c2e6b2eb10.csv (deflated 60%)\n",
            "  adding: content/sample_data/Non_Covid/4c2702c3e14.csv (deflated 60%)\n",
            "  adding: content/sample_data/Non_Covid/fcf3ea75b06.csv (deflated 57%)\n",
            "  adding: content/sample_data/Non_Covid/fcf3ea75b09.csv (deflated 58%)\n",
            "  adding: content/sample_data/Non_Covid/c174f32d885.csv (deflated 61%)\n",
            "  adding: content/sample_data/Non_Covid/a62c11c1645.csv (deflated 57%)\n",
            "  adding: content/sample_data/Non_Covid/a1c2e6b2eb4.csv (deflated 60%)\n",
            "  adding: content/sample_data/Non_Covid/fcf3ea75b013.csv (deflated 58%)\n",
            "  adding: content/sample_data/Non_Covid/fcf3ea75b010.csv (deflated 58%)\n",
            "  adding: content/sample_data/Non_Covid/a1c2e6b2eb2.csv (deflated 59%)\n",
            "  adding: content/sample_data/Non_Covid/295ed962790.csv (deflated 59%)\n",
            "  adding: content/sample_data/Non_Covid/a1c2e6b2eb9.csv (deflated 61%)\n",
            "  adding: content/sample_data/Non_Covid/295ed962793.csv (deflated 59%)\n",
            "  adding: content/sample_data/Non_Covid/fcf3ea75b04.csv (deflated 57%)\n",
            "  adding: content/sample_data/Non_Covid/a1c2e6b2eb3.csv (deflated 60%)\n",
            "  adding: content/sample_data/Non_Covid/fcf3ea75b011.csv (deflated 58%)\n",
            "  adding: content/sample_data/Non_Covid/c174f32d8810.csv (deflated 61%)\n",
            "  adding: content/sample_data/Non_Covid/a1c2e6b2eb13.csv (deflated 60%)\n",
            "  adding: content/sample_data/Non_Covid/a1c2e6b2eb7.csv (deflated 61%)\n",
            "  adding: content/sample_data/Non_Covid/a1c2e6b2eb12.csv (deflated 60%)\n",
            "  adding: content/sample_data/Non_Covid/c174f32d888.csv (deflated 61%)\n",
            "  adding: content/sample_data/Non_Covid/a1c2e6b2eb1.csv (deflated 60%)\n",
            "  adding: content/sample_data/Non_Covid/a1c2e6b2eb0.csv (deflated 60%)\n",
            "  adding: content/sample_data/Non_Covid/a1c2e6b2eb11.csv (deflated 61%)\n",
            "  adding: content/sample_data/Non_Covid/295ed962794.csv (deflated 59%)\n",
            "  adding: content/sample_data/Non_Covid/295ed962791.csv (deflated 60%)\n",
            "  adding: content/sample_data/Non_Covid/4c2702c3e13.csv (deflated 60%)\n",
            "  adding: content/sample_data/Non_Covid/fcf3ea75b01.csv (deflated 58%)\n",
            "  adding: content/sample_data/Non_Covid/c174f32d8812.csv (deflated 61%)\n",
            "  adding: content/sample_data/Non_Covid/a62c11c1643.csv (deflated 57%)\n",
            "  adding: content/sample_data/Non_Covid/a1c2e6b2eb5.csv (deflated 60%)\n",
            "  adding: content/sample_data/Non_Covid/295ed962796.csv (deflated 59%)\n",
            "  adding: content/sample_data/Non_Covid/c174f32d8811.csv (deflated 61%)\n",
            "  adding: content/sample_data/Non_Covid/c174f32d882.csv (deflated 61%)\n",
            "  adding: content/sample_data/Non_Covid/fcf3ea75b02.csv (deflated 57%)\n",
            "  adding: content/sample_data/Non_Covid/295ed962799.csv (deflated 58%)\n",
            "  adding: content/sample_data/Non_Covid/295ed962797.csv (deflated 58%)\n",
            "  adding: content/sample_data/Non_Covid/c174f32d883.csv (deflated 61%)\n",
            "  adding: content/sample_data/Non_Covid/295ed962795.csv (deflated 59%)\n",
            "  adding: content/sample_data/Non_Covid/4c2702c3e12.csv (deflated 61%)\n",
            "  adding: content/sample_data/Non_Covid/fcf3ea75b03.csv (deflated 57%)\n",
            "  adding: content/sample_data/Non_Covid/295ed9627913.csv (deflated 57%)\n",
            "  adding: content/sample_data/Non_Covid/c174f32d884.csv (deflated 61%)\n",
            "  adding: content/sample_data/Non_Covid/c174f32d881.csv (deflated 61%)\n",
            "  adding: content/sample_data/Non_Covid/c174f32d880.csv (deflated 60%)\n",
            "  adding: content/sample_data/Non_Covid/fcf3ea75b07.csv (deflated 58%)\n",
            "  adding: content/sample_data/Non_Covid/fcf3ea75b05.csv (deflated 57%)\n",
            "  adding: content/sample_data/Non_Covid/295ed962798.csv (deflated 58%)\n",
            "  adding: content/sample_data/Non_Covid/a62c11c1641.csv (deflated 57%)\n",
            "  adding: content/sample_data/Non_Covid/a62c11c1642.csv (deflated 57%)\n",
            "  adding: content/sample_data/Non_Covid/638c757e730.csv (deflated 58%)\n",
            "  adding: content/sample_data/Non_Covid/a62c11c1644.csv (deflated 57%)\n",
            "  adding: content/sample_data/Non_Covid/295ed9627911.csv (deflated 57%)\n",
            "  adding: content/sample_data/Non_Covid/c174f32d886.csv (deflated 61%)\n",
            "  adding: content/sample_data/Non_Covid/295ed9627910.csv (deflated 58%)\n",
            "  adding: content/sample_data/Non_Covid/638c757e731.csv (deflated 58%)\n",
            "  adding: content/sample_data/Non_Covid/fcf3ea75b08.csv (deflated 57%)\n",
            "  adding: content/sample_data/Non_Covid/fcf3ea75b00.csv (deflated 57%)\n",
            "  adding: content/sample_data/Non_Covid/c174f32d889.csv (deflated 61%)\n",
            "  adding: content/sample_data/Non_Covid/4c2702c3e10.csv (deflated 61%)\n",
            "  adding: content/sample_data/Non_Covid/638c757e732.csv (deflated 57%)\n",
            "  adding: content/sample_data/Non_Covid/295ed9627912.csv (deflated 57%)\n",
            "  adding: content/sample_data/Non_Covid/c174f32d887.csv (deflated 61%)\n",
            "  adding: content/sample_data/Non_Covid/a62c11c1646.csv (deflated 57%)\n",
            "  adding: content/sample_data/Non_Covid/295ed962792.csv (deflated 60%)\n",
            "  adding: content/sample_data/Non_Covid/a1c2e6b2eb8.csv (deflated 60%)\n",
            "  adding: content/sample_data/Non_Covid/4c2702c3e11.csv (deflated 61%)\n",
            "  adding: content/sample_data/Non_Covid/fcf3ea75b012.csv (deflated 58%)\n",
            "  adding: content/sample_data/Non_Covid/a1c2e6b2eb6.csv (deflated 61%)\n",
            "  adding: content/sample_data/Non_Covid/a62c11c1640.csv (deflated 57%)\n",
            "  adding: content/sample_data/Non_Covid/a62c11c1647.csv (deflated 57%)\n"
          ],
          "name": "stdout"
        }
      ]
    },
    {
      "cell_type": "code",
      "metadata": {
        "id": "ZyMk4pPCCXCo",
        "colab_type": "code",
        "colab": {}
      },
      "source": [
        ""
      ],
      "execution_count": null,
      "outputs": []
    }
  ]
}